{
 "cells": [
  {
   "cell_type": "code",
   "execution_count": 13,
   "metadata": {
    "ExecuteTime": {
     "end_time": "2020-03-26T08:00:00.056281Z",
     "start_time": "2020-03-26T08:00:00.010509Z"
    }
   },
   "outputs": [],
   "source": [
    "import matplotlib\n",
    "import sklearn\n",
    "import seaborn\n",
    "import pandas\n",
    "try:\n",
    "    pandas.read_csv('wa_weather_1944_till_2016.csv', sep=',')\n",
    "    pandas.read_csv('2000-2016data.csv', sep=';')\n",
    "except Exception as err:\n",
    "    print('Missing file:', err)"
   ]
  }
 ],
 "metadata": {
  "kernelspec": {
   "display_name": "Python 3",
   "language": "python",
   "name": "python3"
  },
  "language_info": {
   "codemirror_mode": {
    "name": "ipython",
    "version": 3
   },
   "file_extension": ".py",
   "mimetype": "text/x-python",
   "name": "python",
   "nbconvert_exporter": "python",
   "pygments_lexer": "ipython3",
   "version": "3.6.10"
  }
 },
 "nbformat": 4,
 "nbformat_minor": 4
}
