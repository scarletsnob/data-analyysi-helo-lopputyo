{
 "cells": [
  {
   "cell_type": "markdown",
   "metadata": {},
   "source": [
    "# Aim of The Project\n",
    "The aim of the project is to predict weather phenomena with multiple linear regression model. We are particularly interested in predicting the average temperatures. The predictions should be based on values such as rainfall, amount of UV, max and min temperatures. We found a good dataset containing weather data from airport in Perth, Australia. The dataset contains data from 1944 till 2016. With this dataset we set out to implement our models as best as we could.\n"
   ]
  },
  {
   "cell_type": "markdown",
   "metadata": {},
   "source": [
    "# Evaluation of Tutorial Used For Learning\n",
    "Before starting working on our own model. We decided to go through some tutorials and learn about linear regression. We found multiple good tutorials on the subject but after brief discussion we decided on one tutorial that we would do as a group. [The tutorial we used](https://towardsdatascience.com/a-beginners-guide-to-linear-regression-in-python-with-scikit-learn-83a8f7ae2b4f) taught us how to build a linear regression models with scikit-learn python library. The tutorial was divided in two parts: simple linear regression and multiple linear regression. Since our models was going to rely on multiple variables the second part was more useful for us. But the first part of the tutorial was also very helpful with examples of how matplotlib and pandas libraries work.\n",
    "\n",
    "In general the tutorial was of high quality and we can recommend it for everyone who is interested in building their own linear regression models or just are interested in learning about machine learning and the libraries used for machine learning in Python\n"
   ]
  },
  {
   "cell_type": "code",
   "execution_count": null,
   "metadata": {},
   "outputs": [],
   "source": []
  }
 ],
 "metadata": {
  "kernelspec": {
   "display_name": "Python 3",
   "language": "python",
   "name": "python3"
  },
  "language_info": {
   "codemirror_mode": {
    "name": "ipython",
    "version": 3
   },
   "file_extension": ".py",
   "mimetype": "text/x-python",
   "name": "python",
   "nbconvert_exporter": "python",
   "pygments_lexer": "ipython3",
   "version": "3.6.10"
  }
 },
 "nbformat": 4,
 "nbformat_minor": 4
}
