{
 "cells": [
  {
   "cell_type": "code",
   "execution_count": 2,
   "metadata": {},
   "outputs": [],
   "source": [
    "import pandas as pd  \n",
    "import numpy as np  \n",
    "import matplotlib.pyplot as plt  \n",
    "import seaborn as seabornInstance \n",
    "from sklearn.model_selection import train_test_split \n",
    "from sklearn.linear_model import LinearRegression\n",
    "from sklearn import metrics\n",
    "%matplotlib inline"
   ]
  },
  {
   "cell_type": "markdown",
   "metadata": {},
   "source": [
    "# Describing the dataset\n",
    "\n",
    "The original dataset being used is a CSV file, wa_weather_1944_till_2016.csv. We use the pandas library to read\n",
    "the contents of the file with read_csv() function."
   ]
  },
  {
   "cell_type": "code",
   "execution_count": 4,
   "metadata": {},
   "outputs": [],
   "source": [
    "dataset = pd.read_csv('wa_weather_1944_till_2016.csv')"
   ]
  },
  {
   "cell_type": "markdown",
   "metadata": {},
   "source": [
    "### Shape\n",
    "\n",
    "We use shape on the dataset to return the amount of columns and rows. The dataset contains 26543 rows and 9 columns, that are: year, month, day, rainfall amount in mm, the min and max temperatures in celcius, the daily average temperature, the daily temperature range and finally the amount of ultraviolet light. "
   ]
  },
  {
   "cell_type": "code",
   "execution_count": 5,
   "metadata": {},
   "outputs": [
    {
     "data": {
      "text/plain": [
       "(26543, 9)"
      ]
     },
     "execution_count": 5,
     "metadata": {},
     "output_type": "execute_result"
    }
   ],
   "source": [
    "dataset.shape"
   ]
  },
  {
   "cell_type": "markdown",
   "metadata": {},
   "source": [
    "### Describe\n",
    "\n",
    "The describe function gives an overview of our dataset and gives a detailed description of the differenct values of the dataset attributes, i.e. the total amount, mean, min and max values."
   ]
  },
  {
   "cell_type": "code",
   "execution_count": 6,
   "metadata": {
    "scrolled": true
   },
   "outputs": [
    {
     "data": {
      "text/html": [
       "<div>\n",
       "<style scoped>\n",
       "    .dataframe tbody tr th:only-of-type {\n",
       "        vertical-align: middle;\n",
       "    }\n",
       "\n",
       "    .dataframe tbody tr th {\n",
       "        vertical-align: top;\n",
       "    }\n",
       "\n",
       "    .dataframe thead th {\n",
       "        text-align: right;\n",
       "    }\n",
       "</style>\n",
       "<table border=\"1\" class=\"dataframe\">\n",
       "  <thead>\n",
       "    <tr style=\"text-align: right;\">\n",
       "      <th></th>\n",
       "      <th>Year</th>\n",
       "      <th>Month</th>\n",
       "      <th>Day</th>\n",
       "      <th>rainfall_mm</th>\n",
       "      <th>min_temp_C</th>\n",
       "      <th>max_temp_C</th>\n",
       "      <th>daily_avg</th>\n",
       "      <th>daily_range</th>\n",
       "      <th>uv_MJ_m*m</th>\n",
       "    </tr>\n",
       "  </thead>\n",
       "  <tbody>\n",
       "    <tr>\n",
       "      <th>count</th>\n",
       "      <td>26543.000000</td>\n",
       "      <td>26543.000000</td>\n",
       "      <td>26543.000000</td>\n",
       "      <td>26543.000000</td>\n",
       "      <td>26435.000000</td>\n",
       "      <td>26480.000000</td>\n",
       "      <td>26543.000000</td>\n",
       "      <td>26543.000000</td>\n",
       "      <td>9390.000000</td>\n",
       "    </tr>\n",
       "    <tr>\n",
       "      <th>mean</th>\n",
       "      <td>1980.164111</td>\n",
       "      <td>6.541160</td>\n",
       "      <td>15.730437</td>\n",
       "      <td>2.101281</td>\n",
       "      <td>12.104358</td>\n",
       "      <td>24.451828</td>\n",
       "      <td>18.224449</td>\n",
       "      <td>12.338684</td>\n",
       "      <td>18.967348</td>\n",
       "    </tr>\n",
       "    <tr>\n",
       "      <th>std</th>\n",
       "      <td>20.979310</td>\n",
       "      <td>3.445064</td>\n",
       "      <td>8.800655</td>\n",
       "      <td>5.851269</td>\n",
       "      <td>4.736770</td>\n",
       "      <td>6.287806</td>\n",
       "      <td>5.203848</td>\n",
       "      <td>4.390402</td>\n",
       "      <td>8.726202</td>\n",
       "    </tr>\n",
       "    <tr>\n",
       "      <th>min</th>\n",
       "      <td>1944.000000</td>\n",
       "      <td>1.000000</td>\n",
       "      <td>1.000000</td>\n",
       "      <td>0.000000</td>\n",
       "      <td>-1.300000</td>\n",
       "      <td>9.400000</td>\n",
       "      <td>0.000000</td>\n",
       "      <td>-20.600000</td>\n",
       "      <td>0.200000</td>\n",
       "    </tr>\n",
       "    <tr>\n",
       "      <th>25%</th>\n",
       "      <td>1962.000000</td>\n",
       "      <td>4.000000</td>\n",
       "      <td>8.000000</td>\n",
       "      <td>0.000000</td>\n",
       "      <td>8.700000</td>\n",
       "      <td>19.400000</td>\n",
       "      <td>14.250000</td>\n",
       "      <td>9.200000</td>\n",
       "      <td>11.600000</td>\n",
       "    </tr>\n",
       "    <tr>\n",
       "      <th>50%</th>\n",
       "      <td>1980.000000</td>\n",
       "      <td>7.000000</td>\n",
       "      <td>16.000000</td>\n",
       "      <td>0.000000</td>\n",
       "      <td>11.800000</td>\n",
       "      <td>23.200000</td>\n",
       "      <td>17.300000</td>\n",
       "      <td>12.400000</td>\n",
       "      <td>17.900000</td>\n",
       "    </tr>\n",
       "    <tr>\n",
       "      <th>75%</th>\n",
       "      <td>1998.000000</td>\n",
       "      <td>10.000000</td>\n",
       "      <td>23.000000</td>\n",
       "      <td>0.600000</td>\n",
       "      <td>15.400000</td>\n",
       "      <td>28.800000</td>\n",
       "      <td>21.900000</td>\n",
       "      <td>15.300000</td>\n",
       "      <td>26.900000</td>\n",
       "    </tr>\n",
       "    <tr>\n",
       "      <th>max</th>\n",
       "      <td>2016.000000</td>\n",
       "      <td>12.000000</td>\n",
       "      <td>31.000000</td>\n",
       "      <td>132.000000</td>\n",
       "      <td>28.700000</td>\n",
       "      <td>46.700000</td>\n",
       "      <td>36.800000</td>\n",
       "      <td>43.500000</td>\n",
       "      <td>37.100000</td>\n",
       "    </tr>\n",
       "  </tbody>\n",
       "</table>\n",
       "</div>"
      ],
      "text/plain": [
       "               Year         Month           Day   rainfall_mm    min_temp_C  \\\n",
       "count  26543.000000  26543.000000  26543.000000  26543.000000  26435.000000   \n",
       "mean    1980.164111      6.541160     15.730437      2.101281     12.104358   \n",
       "std       20.979310      3.445064      8.800655      5.851269      4.736770   \n",
       "min     1944.000000      1.000000      1.000000      0.000000     -1.300000   \n",
       "25%     1962.000000      4.000000      8.000000      0.000000      8.700000   \n",
       "50%     1980.000000      7.000000     16.000000      0.000000     11.800000   \n",
       "75%     1998.000000     10.000000     23.000000      0.600000     15.400000   \n",
       "max     2016.000000     12.000000     31.000000    132.000000     28.700000   \n",
       "\n",
       "         max_temp_C     daily_avg   daily_range    uv_MJ_m*m  \n",
       "count  26480.000000  26543.000000  26543.000000  9390.000000  \n",
       "mean      24.451828     18.224449     12.338684    18.967348  \n",
       "std        6.287806      5.203848      4.390402     8.726202  \n",
       "min        9.400000      0.000000    -20.600000     0.200000  \n",
       "25%       19.400000     14.250000      9.200000    11.600000  \n",
       "50%       23.200000     17.300000     12.400000    17.900000  \n",
       "75%       28.800000     21.900000     15.300000    26.900000  \n",
       "max       46.700000     36.800000     43.500000    37.100000  "
      ]
     },
     "execution_count": 6,
     "metadata": {},
     "output_type": "execute_result"
    }
   ],
   "source": [
    "dataset.describe()"
   ]
  },
  {
   "cell_type": "markdown",
   "metadata": {},
   "source": [
    "# Preparing the dataset\n",
    "\n",
    "We check if the dataset contains any null values and remove them using isnull().any() to return a boolean value and dropna() to drop the null values from dataset."
   ]
  },
  {
   "cell_type": "code",
   "execution_count": 8,
   "metadata": {},
   "outputs": [
    {
     "data": {
      "text/plain": [
       "Year           False\n",
       "Month          False\n",
       "Day            False\n",
       "rainfall_mm    False\n",
       "min_temp_C      True\n",
       "max_temp_C      True\n",
       "daily_avg      False\n",
       "daily_range    False\n",
       "uv_MJ_m*m       True\n",
       "dtype: bool"
      ]
     },
     "execution_count": 8,
     "metadata": {},
     "output_type": "execute_result"
    }
   ],
   "source": [
    "dataset.isnull().any()"
   ]
  }
 ],
 "metadata": {
  "kernelspec": {
   "display_name": "Python 3",
   "language": "python",
   "name": "python3"
  },
  "language_info": {
   "codemirror_mode": {
    "name": "ipython",
    "version": 3
   },
   "file_extension": ".py",
   "mimetype": "text/x-python",
   "name": "python",
   "nbconvert_exporter": "python",
   "pygments_lexer": "ipython3",
   "version": "3.6.10"
  }
 },
 "nbformat": 4,
 "nbformat_minor": 4
}
