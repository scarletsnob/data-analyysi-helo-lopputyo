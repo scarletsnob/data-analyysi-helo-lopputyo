{
 "cells": [
  {
   "cell_type": "markdown",
   "metadata": {},
   "source": [
    "# Aim of The Project\n",
    "The aim of the project is to predict weather phenomena with multiple linear regression model. We are particularly interested in predicting the average temperatures. The predictions should be based on values such as rainfall, amount of UV, max and min temperatures. We found a good dataset containing weather data from airport in Perth, Australia. The dataset contains data from 1944 till 2016. With this dataset we set out to implement our models as best as we could.\n"
   ]
  },
  {
   "cell_type": "markdown",
   "metadata": {},
   "source": [
    "# Evaluation of Tutorial Used For Learning\n",
    "Before starting working on our own model. We decided to go through some tutorials and learn about linear regression. We found multiple good tutorials on the subject but after brief discussion we decided on one tutorial that we would do as a group. [The tutorial we used](https://towardsdatascience.com/a-beginners-guide-to-linear-regression-in-python-with-scikit-learn-83a8f7ae2b4f) taught us how to build a linear regression models with scikit-learn python library. The tutorial was divided in two parts: simple linear regression and multiple linear regression. Since our models was going to rely on multiple variables the second part was more useful for us. But the first part of the tutorial was also very helpful with examples of how matplotlib and pandas libraries work.\n",
    "\n",
    "In general the tutorial was of high quality and we can recommend it for everyone who is interested in building their own linear regression models or just are interested in learning about machine learning and the libraries used for machine learning in Python\n"
   ]
  },
  {
   "cell_type": "code",
   "execution_count": 16,
   "metadata": {
    "ExecuteTime": {
     "end_time": "2020-04-09T07:51:38.135442Z",
     "start_time": "2020-04-09T07:51:38.126912Z"
    }
   },
   "outputs": [],
   "source": [
    "import pandas as pd  \n",
    "import numpy as np  \n",
    "import matplotlib.pyplot as plt  \n",
    "import seaborn as seabornInstance \n",
    "from sklearn.model_selection import train_test_split \n",
    "from sklearn.linear_model import LinearRegression\n",
    "from sklearn import metrics\n",
    "%matplotlib inline"
   ]
  },
  {
   "cell_type": "markdown",
   "metadata": {
    "ExecuteTime": {
     "end_time": "2020-04-06T08:07:47.668598Z",
     "start_time": "2020-04-06T08:07:47.647206Z"
    }
   },
   "source": [
    "# Analysis process\n",
    "After we were decided on what dataset to use and what to predict with it we started by making a git repository and a common development environment. Our development environment is jupyter notebook running inside a conda virtual environment. This way it was easy for us to install and manage the libraries we wanted to use.\n",
    "\n",
    "The actual process for the analysis started by looking at our dataset and figuring out what to use it for. The nature of the data being about weather we wanted to try to predict the daily average temperature based on other attributes such as the amount of UV radiation, rainfall and taking into consideration the time of the year.\n",
    "With our goal set out in our minds we started preparing the data for our multiple linear regression model. By preparing the data we made sure that the dataset did not contain any bad values and our end result wouldn't be affected by them. Our method of cleaning up the data from these bad values meant dropping them from the dataset. Luckily there weren't many of such values.\n",
    "\n",
    "With our cleaned up data we were ready to make training and testing datasets. Before making the datasets we had to decide what variables to use in our model. For our purposes these variables were rainfall, uv radiation and max temperature. We used these variables to predict daily average temperature. Our datasets were split into 80% training data and 20% testing data. The training data was used for creating our multiple linear regression model and training it. As for the testing data it was used for testing the model.\n",
    "\n",
    "Once we had our datasets ready. The training datasets were fitted into a regression model. The model training method took the variables that know as their own dataset and the variable we want to predict as a seperate dataset. The model training function, in a nutshell, found us the best available line from the mess of datapoints and from that line we can make our predictions. With this method we got ourselves some coeffients that tells us how the variables affect the value we are trying to predict, in this case the daily average temperature. Now with our very own model we tried to predict some values with the testing dataset. We made our predictions and compared them to the testing dataset. By comparing them against each other we were able to determine how good our predictions were."
   ]
  },
  {
   "cell_type": "markdown",
   "metadata": {},
   "source": [
    "# Describing the dataset\n",
    "\n",
    "The original dataset being used is a CSV file, wa_weather_1944_till_2016.csv. We use the pandas library to read\n",
    "the contents of the file with read_csv() function."
   ]
  },
  {
   "cell_type": "code",
   "execution_count": 17,
   "metadata": {
    "ExecuteTime": {
     "end_time": "2020-04-09T07:51:38.169628Z",
     "start_time": "2020-04-09T07:51:38.137074Z"
    }
   },
   "outputs": [],
   "source": [
    "dataset = pd.read_csv('wa_weather_1944_till_2016.csv')"
   ]
  },
  {
   "cell_type": "markdown",
   "metadata": {},
   "source": [
    "### Shape\n",
    "\n",
    "We use shape on the dataset to return the amount of columns and rows. The dataset contains 26543 rows and 9 columns, that are: year, month, day, rainfall amount in mm, the min and max temperatures in celcius, the daily average temperature, the daily temperature range and finally the amount of ultraviolet light. "
   ]
  },
  {
   "cell_type": "code",
   "execution_count": 18,
   "metadata": {
    "ExecuteTime": {
     "end_time": "2020-04-09T07:51:38.178697Z",
     "start_time": "2020-04-09T07:51:38.175088Z"
    }
   },
   "outputs": [
    {
     "data": {
      "text/plain": [
       "(26543, 9)"
      ]
     },
     "execution_count": 18,
     "metadata": {},
     "output_type": "execute_result"
    }
   ],
   "source": [
    "dataset.shape"
   ]
  },
  {
   "cell_type": "markdown",
   "metadata": {},
   "source": [
    "### Describe\n",
    "\n",
    "The describe function gives an overview of our dataset and gives a detailed description of the differenct values of the dataset attributes, i.e. the total amount, mean, min and max values.\n",
    "* Year - Year of the measurement,\n",
    "* Month - Month of the measurement,\n",
    "* Day - Day of the measurement,\n",
    "* Rainfall - Amount of rain,\n",
    "* Min. temperature - Minimum temperature that day,\n",
    "* Max. Temperature - Maximum temperature that dat,\n",
    "* Daily avg. - Average temperature that day,\n",
    "* Daily range - Daily range of temperature that dat,\n",
    "* UV/MJ m*m - amount of UV radiation that day"
   ]
  },
  {
   "cell_type": "code",
   "execution_count": 19,
   "metadata": {
    "ExecuteTime": {
     "end_time": "2020-04-09T07:51:38.270203Z",
     "start_time": "2020-04-09T07:51:38.180424Z"
    },
    "scrolled": true
   },
   "outputs": [
    {
     "data": {
      "text/html": [
       "<div>\n",
       "<style scoped>\n",
       "    .dataframe tbody tr th:only-of-type {\n",
       "        vertical-align: middle;\n",
       "    }\n",
       "\n",
       "    .dataframe tbody tr th {\n",
       "        vertical-align: top;\n",
       "    }\n",
       "\n",
       "    .dataframe thead th {\n",
       "        text-align: right;\n",
       "    }\n",
       "</style>\n",
       "<table border=\"1\" class=\"dataframe\">\n",
       "  <thead>\n",
       "    <tr style=\"text-align: right;\">\n",
       "      <th></th>\n",
       "      <th>Year</th>\n",
       "      <th>Month</th>\n",
       "      <th>Day</th>\n",
       "      <th>rainfall_mm</th>\n",
       "      <th>min_temp_C</th>\n",
       "      <th>max_temp_C</th>\n",
       "      <th>daily_avg</th>\n",
       "      <th>daily_range</th>\n",
       "      <th>uv_MJ_m*m</th>\n",
       "    </tr>\n",
       "  </thead>\n",
       "  <tbody>\n",
       "    <tr>\n",
       "      <th>count</th>\n",
       "      <td>26543.000000</td>\n",
       "      <td>26543.000000</td>\n",
       "      <td>26543.000000</td>\n",
       "      <td>26543.000000</td>\n",
       "      <td>26435.000000</td>\n",
       "      <td>26480.000000</td>\n",
       "      <td>26543.000000</td>\n",
       "      <td>26543.000000</td>\n",
       "      <td>9390.000000</td>\n",
       "    </tr>\n",
       "    <tr>\n",
       "      <th>mean</th>\n",
       "      <td>1980.164111</td>\n",
       "      <td>6.541160</td>\n",
       "      <td>15.730437</td>\n",
       "      <td>2.101281</td>\n",
       "      <td>12.104358</td>\n",
       "      <td>24.451828</td>\n",
       "      <td>18.224449</td>\n",
       "      <td>12.338684</td>\n",
       "      <td>18.967348</td>\n",
       "    </tr>\n",
       "    <tr>\n",
       "      <th>std</th>\n",
       "      <td>20.979310</td>\n",
       "      <td>3.445064</td>\n",
       "      <td>8.800655</td>\n",
       "      <td>5.851269</td>\n",
       "      <td>4.736770</td>\n",
       "      <td>6.287806</td>\n",
       "      <td>5.203848</td>\n",
       "      <td>4.390402</td>\n",
       "      <td>8.726202</td>\n",
       "    </tr>\n",
       "    <tr>\n",
       "      <th>min</th>\n",
       "      <td>1944.000000</td>\n",
       "      <td>1.000000</td>\n",
       "      <td>1.000000</td>\n",
       "      <td>0.000000</td>\n",
       "      <td>-1.300000</td>\n",
       "      <td>9.400000</td>\n",
       "      <td>0.000000</td>\n",
       "      <td>-20.600000</td>\n",
       "      <td>0.200000</td>\n",
       "    </tr>\n",
       "    <tr>\n",
       "      <th>25%</th>\n",
       "      <td>1962.000000</td>\n",
       "      <td>4.000000</td>\n",
       "      <td>8.000000</td>\n",
       "      <td>0.000000</td>\n",
       "      <td>8.700000</td>\n",
       "      <td>19.400000</td>\n",
       "      <td>14.250000</td>\n",
       "      <td>9.200000</td>\n",
       "      <td>11.600000</td>\n",
       "    </tr>\n",
       "    <tr>\n",
       "      <th>50%</th>\n",
       "      <td>1980.000000</td>\n",
       "      <td>7.000000</td>\n",
       "      <td>16.000000</td>\n",
       "      <td>0.000000</td>\n",
       "      <td>11.800000</td>\n",
       "      <td>23.200000</td>\n",
       "      <td>17.300000</td>\n",
       "      <td>12.400000</td>\n",
       "      <td>17.900000</td>\n",
       "    </tr>\n",
       "    <tr>\n",
       "      <th>75%</th>\n",
       "      <td>1998.000000</td>\n",
       "      <td>10.000000</td>\n",
       "      <td>23.000000</td>\n",
       "      <td>0.600000</td>\n",
       "      <td>15.400000</td>\n",
       "      <td>28.800000</td>\n",
       "      <td>21.900000</td>\n",
       "      <td>15.300000</td>\n",
       "      <td>26.900000</td>\n",
       "    </tr>\n",
       "    <tr>\n",
       "      <th>max</th>\n",
       "      <td>2016.000000</td>\n",
       "      <td>12.000000</td>\n",
       "      <td>31.000000</td>\n",
       "      <td>132.000000</td>\n",
       "      <td>28.700000</td>\n",
       "      <td>46.700000</td>\n",
       "      <td>36.800000</td>\n",
       "      <td>43.500000</td>\n",
       "      <td>37.100000</td>\n",
       "    </tr>\n",
       "  </tbody>\n",
       "</table>\n",
       "</div>"
      ],
      "text/plain": [
       "               Year         Month           Day   rainfall_mm    min_temp_C  \\\n",
       "count  26543.000000  26543.000000  26543.000000  26543.000000  26435.000000   \n",
       "mean    1980.164111      6.541160     15.730437      2.101281     12.104358   \n",
       "std       20.979310      3.445064      8.800655      5.851269      4.736770   \n",
       "min     1944.000000      1.000000      1.000000      0.000000     -1.300000   \n",
       "25%     1962.000000      4.000000      8.000000      0.000000      8.700000   \n",
       "50%     1980.000000      7.000000     16.000000      0.000000     11.800000   \n",
       "75%     1998.000000     10.000000     23.000000      0.600000     15.400000   \n",
       "max     2016.000000     12.000000     31.000000    132.000000     28.700000   \n",
       "\n",
       "         max_temp_C     daily_avg   daily_range    uv_MJ_m*m  \n",
       "count  26480.000000  26543.000000  26543.000000  9390.000000  \n",
       "mean      24.451828     18.224449     12.338684    18.967348  \n",
       "std        6.287806      5.203848      4.390402     8.726202  \n",
       "min        9.400000      0.000000    -20.600000     0.200000  \n",
       "25%       19.400000     14.250000      9.200000    11.600000  \n",
       "50%       23.200000     17.300000     12.400000    17.900000  \n",
       "75%       28.800000     21.900000     15.300000    26.900000  \n",
       "max       46.700000     36.800000     43.500000    37.100000  "
      ]
     },
     "execution_count": 19,
     "metadata": {},
     "output_type": "execute_result"
    }
   ],
   "source": [
    "dataset.describe()"
   ]
  },
  {
   "cell_type": "markdown",
   "metadata": {},
   "source": [
    "# Preparing the dataset\n",
    "\n",
    "We check if the dataset contains any null values and remove them using isnull().any() to return a boolean value and dropna() to drop the null values from dataset."
   ]
  },
  {
   "cell_type": "code",
   "execution_count": 20,
   "metadata": {
    "ExecuteTime": {
     "end_time": "2020-04-09T07:51:38.280045Z",
     "start_time": "2020-04-09T07:51:38.272126Z"
    }
   },
   "outputs": [
    {
     "data": {
      "text/plain": [
       "Year           False\n",
       "Month          False\n",
       "Day            False\n",
       "rainfall_mm    False\n",
       "min_temp_C      True\n",
       "max_temp_C      True\n",
       "daily_avg      False\n",
       "daily_range    False\n",
       "uv_MJ_m*m       True\n",
       "dtype: bool"
      ]
     },
     "execution_count": 20,
     "metadata": {},
     "output_type": "execute_result"
    }
   ],
   "source": [
    "dataset.isnull().any()"
   ]
  },
  {
   "cell_type": "code",
   "execution_count": 21,
   "metadata": {
    "ExecuteTime": {
     "end_time": "2020-04-09T07:51:38.290027Z",
     "start_time": "2020-04-09T07:51:38.282153Z"
    }
   },
   "outputs": [],
   "source": [
    "dataset = dataset.dropna()"
   ]
  },
  {
   "cell_type": "markdown",
   "metadata": {},
   "source": [
    "# Drawing the dataset\n",
    "\n",
    "We draw a graph of the daily average from the data. Y-axis is the probability density, X-axis is the average temperature."
   ]
  },
  {
   "cell_type": "code",
   "execution_count": 22,
   "metadata": {
    "ExecuteTime": {
     "end_time": "2020-04-09T07:51:38.630654Z",
     "start_time": "2020-04-09T07:51:38.291948Z"
    }
   },
   "outputs": [
    {
     "data": {
      "text/plain": [
       "Text(0, 0.5, 'Probability Density')"
      ]
     },
     "execution_count": 22,
     "metadata": {},
     "output_type": "execute_result"
    },
    {
     "data": {
      "image/png": "[encoded data removed]",
      "text/plain": [
       "<Figure size 1080x720 with 1 Axes>"
      ]
     },
     "metadata": {
      "needs_background": "light"
     },
     "output_type": "display_data"
    }
   ],
   "source": [
    "X = dataset[['max_temp_C', 'rainfall_mm', 'uv_MJ_m*m']]\n",
    "y = dataset['daily_avg']\n",
    "\n",
    "plt.figure(figsize=(15,10))\n",
    "plt.tight_layout()\n",
    "seabornInstance.distplot(dataset['daily_avg'])\n",
    "plt.xlabel('Daily Average Temperature Celsius', fontsize=18)\n",
    "plt.ylabel('Probability Density', fontsize=16)"
   ]
  },
  {
   "cell_type": "markdown",
   "metadata": {},
   "source": [
    "# Splitting dataset\n",
    "\n",
    "We split the data set 80/20, and use the first 80% of the data to train our model, and the latter 20% to test the accuracy.\n",
    "   "
   ]
  },
  {
   "cell_type": "code",
   "execution_count": 23,
   "metadata": {
    "ExecuteTime": {
     "end_time": "2020-04-09T07:51:38.682802Z",
     "start_time": "2020-04-09T07:51:38.635667Z"
    }
   },
   "outputs": [
    {
     "data": {
      "text/plain": [
       "LinearRegression(copy_X=True, fit_intercept=True, n_jobs=None, normalize=False)"
      ]
     },
     "execution_count": 23,
     "metadata": {},
     "output_type": "execute_result"
    }
   ],
   "source": [
    "# Split 80% of data to train and 20% to test\n",
    "X_train, X_test, y_train, y_test = train_test_split(X, y, test_size=0.2, random_state=0)\n",
    "\n",
    "# Training the model\n",
    "regressor = LinearRegression()\n",
    "regressor.fit(X_train, y_train)"
   ]
  },
  {
   "cell_type": "markdown",
   "metadata": {
    "ExecuteTime": {
     "end_time": "2020-04-09T07:51:38.701561Z",
     "start_time": "2020-04-09T07:51:38.688957Z"
    }
   },
   "source": [
    "## Coefficients\n",
    "Coefficients tell the direction of the relation ship between the value we are trying to predict and the value that we gave as input to the model. A positive coefficient is a sign of the predicted value rising along side with the input parameter and vice versa."
   ]
  },
  {
   "cell_type": "code",
   "execution_count": 25,
   "metadata": {
    "ExecuteTime": {
     "end_time": "2020-04-09T07:51:38.731140Z",
     "start_time": "2020-04-09T07:51:38.709458Z"
    }
   },
   "outputs": [
    {
     "data": {
      "text/html": [
       "<div>\n",
       "<style scoped>\n",
       "    .dataframe tbody tr th:only-of-type {\n",
       "        vertical-align: middle;\n",
       "    }\n",
       "\n",
       "    .dataframe tbody tr th {\n",
       "        vertical-align: top;\n",
       "    }\n",
       "\n",
       "    .dataframe thead th {\n",
       "        text-align: right;\n",
       "    }\n",
       "</style>\n",
       "<table border=\"1\" class=\"dataframe\">\n",
       "  <thead>\n",
       "    <tr style=\"text-align: right;\">\n",
       "      <th></th>\n",
       "      <th>Coefficient</th>\n",
       "    </tr>\n",
       "  </thead>\n",
       "  <tbody>\n",
       "    <tr>\n",
       "      <th>max_temp_C</th>\n",
       "      <td>0.873265</td>\n",
       "    </tr>\n",
       "    <tr>\n",
       "      <th>rainfall_mm</th>\n",
       "      <td>0.078061</td>\n",
       "    </tr>\n",
       "    <tr>\n",
       "      <th>uv_MJ_m*m</th>\n",
       "      <td>-0.064201</td>\n",
       "    </tr>\n",
       "  </tbody>\n",
       "</table>\n",
       "</div>"
      ],
      "text/plain": [
       "             Coefficient\n",
       "max_temp_C      0.873265\n",
       "rainfall_mm     0.078061\n",
       "uv_MJ_m*m      -0.064201"
      ]
     },
     "execution_count": 25,
     "metadata": {},
     "output_type": "execute_result"
    }
   ],
   "source": [
    "# Most optimal coefficients for attributes\n",
    "coeff_df = pd.DataFrame(regressor.coef_, X.columns, columns=['Coefficient'])  \n",
    "coeff_df"
   ]
  },
  {
   "cell_type": "markdown",
   "metadata": {},
   "source": [
    "# Testing accuracy\n",
    "\n",
    "We will use our test data and see how accurately our algorithm predicts the percentage score"
   ]
  },
  {
   "cell_type": "code",
   "execution_count": 26,
   "metadata": {
    "ExecuteTime": {
     "end_time": "2020-04-09T07:51:38.747240Z",
     "start_time": "2020-04-09T07:51:38.737762Z"
    }
   },
   "outputs": [],
   "source": [
    "y_pred = regressor.predict(X_test)"
   ]
  },
  {
   "cell_type": "code",
   "execution_count": 27,
   "metadata": {
    "ExecuteTime": {
     "end_time": "2020-04-09T07:51:38.778000Z",
     "start_time": "2020-04-09T07:51:38.754946Z"
    }
   },
   "outputs": [
    {
     "data": {
      "text/html": [
       "<div>\n",
       "<style scoped>\n",
       "    .dataframe tbody tr th:only-of-type {\n",
       "        vertical-align: middle;\n",
       "    }\n",
       "\n",
       "    .dataframe tbody tr th {\n",
       "        vertical-align: top;\n",
       "    }\n",
       "\n",
       "    .dataframe thead th {\n",
       "        text-align: right;\n",
       "    }\n",
       "</style>\n",
       "<table border=\"1\" class=\"dataframe\">\n",
       "  <thead>\n",
       "    <tr style=\"text-align: right;\">\n",
       "      <th></th>\n",
       "      <th>Actual</th>\n",
       "      <th>Predicted</th>\n",
       "    </tr>\n",
       "  </thead>\n",
       "  <tbody>\n",
       "    <tr>\n",
       "      <th>25929</th>\n",
       "      <td>20.00</td>\n",
       "      <td>19.684492</td>\n",
       "    </tr>\n",
       "    <tr>\n",
       "      <th>24362</th>\n",
       "      <td>28.30</td>\n",
       "      <td>28.327448</td>\n",
       "    </tr>\n",
       "    <tr>\n",
       "      <th>17820</th>\n",
       "      <td>21.45</td>\n",
       "      <td>19.909388</td>\n",
       "    </tr>\n",
       "    <tr>\n",
       "      <th>22097</th>\n",
       "      <td>17.60</td>\n",
       "      <td>15.002273</td>\n",
       "    </tr>\n",
       "    <tr>\n",
       "      <th>24724</th>\n",
       "      <td>24.55</td>\n",
       "      <td>24.397757</td>\n",
       "    </tr>\n",
       "  </tbody>\n",
       "</table>\n",
       "</div>"
      ],
      "text/plain": [
       "       Actual  Predicted\n",
       "25929   20.00  19.684492\n",
       "24362   28.30  28.327448\n",
       "17820   21.45  19.909388\n",
       "22097   17.60  15.002273\n",
       "24724   24.55  24.397757"
      ]
     },
     "execution_count": 27,
     "metadata": {},
     "output_type": "execute_result"
    }
   ],
   "source": [
    "df = pd.DataFrame({'Actual': y_test, 'Predicted': y_pred})\n",
    "df1 = df.head()\n",
    "df1"
   ]
  },
  {
   "cell_type": "markdown",
   "metadata": {},
   "source": [
    "# Metrics"
   ]
  },
  {
   "cell_type": "code",
   "execution_count": 28,
   "metadata": {
    "ExecuteTime": {
     "end_time": "2020-04-09T07:51:38.802896Z",
     "start_time": "2020-04-09T07:51:38.788185Z"
    }
   },
   "outputs": [
    {
     "name": "stdout",
     "output_type": "stream",
     "text": [
      "Mean Absolute Error: 1.2332242903669715\n",
      "Mean Squared Error: 2.3383053195271275\n",
      "Root Mean Squared Error: 1.5291518301094655\n"
     ]
    }
   ],
   "source": [
    "print('Mean Absolute Error:', metrics.mean_absolute_error(y_test, y_pred))  \n",
    "print('Mean Squared Error:', metrics.mean_squared_error(y_test, y_pred))  \n",
    "print('Root Mean Squared Error:', np.sqrt(metrics.mean_squared_error(y_test, y_pred)))"
   ]
  },
  {
   "cell_type": "markdown",
   "metadata": {},
   "source": [
    "# Evaluation of results\n",
    "\n",
    "The algorithm predicted the results of the test data fairly accurately. A comparison can be seen in the table below which shows the actual values of the test data in left column and the predicted values in the other. As can be seen, the predicted values fall into range of the actual dataset test values.\n",
    "\n",
    "### Algorithm performance\n",
    "\n",
    "To get a better evaluation of the results we use evaluation metrics to determine the accuracy of the algorithm. The python Scikit-Learn library is used to calculate the root mean squared error, that is the square root of the mean of the squared errors. The calculation gives a result of 1.52 and comparing it to the daily_avg mean gives us a percentage.\n",
    "\n",
    "(1.52 / 18.22) * 100 = 8%\n",
    "\n",
    "This is a good enough value to get a fairly accurate prediction on the daily average temperature. "
   ]
  }
 ],
 "metadata": {
  "kernelspec": {
   "display_name": "Python 3",
   "language": "python",
   "name": "python3"
  },
  "language_info": {
   "codemirror_mode": {
    "name": "ipython",
    "version": 3
   },
   "file_extension": ".py",
   "mimetype": "text/x-python",
   "name": "python",
   "nbconvert_exporter": "python",
   "pygments_lexer": "ipython3",
   "version": "3.7.4"
  }
 },
 "nbformat": 4,
 "nbformat_minor": 4
}
