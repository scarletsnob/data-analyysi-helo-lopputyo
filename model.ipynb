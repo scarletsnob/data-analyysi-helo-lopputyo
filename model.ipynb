{
 "cells": [
  {
   "cell_type": "code",
   "execution_count": null,
   "metadata": {
    "ExecuteTime": {
     "end_time": "2020-04-02T07:58:49.593223Z",
     "start_time": "2020-04-02T07:58:48.128622Z"
    }
   },
   "outputs": [],
   "source": [
    "import pandas as pd  \n",
    "import numpy as np  \n",
    "import matplotlib.pyplot as plt  \n",
    "import seaborn as seabornInstance \n",
    "from sklearn.model_selection import train_test_split \n",
    "from sklearn.linear_model import LinearRegression\n",
    "from sklearn import metrics\n",
    "%matplotlib inline"
   ]
  },
  {
   "cell_type": "code",
   "execution_count": null,
   "metadata": {
    "ExecuteTime": {
     "end_time": "2020-04-02T07:58:49.675383Z",
     "start_time": "2020-04-02T07:58:49.594903Z"
    },
    "scrolled": true
   },
   "outputs": [],
   "source": [
    "##dataset = pandas.read_csv('wa_weather_1944_till_2016.csv', sep=',')\n",
    "dataset = pd.read_csv('2000-2016data.csv', sep=';')\n",
    "dataset.describe()"
   ]
  },
  {
   "cell_type": "code",
   "execution_count": null,
   "metadata": {
    "ExecuteTime": {
     "end_time": "2020-04-02T07:58:49.681404Z",
     "start_time": "2020-04-02T07:58:49.677280Z"
    }
   },
   "outputs": [],
   "source": [
    "dataset.shape"
   ]
  },
  {
   "cell_type": "code",
   "execution_count": null,
   "metadata": {
    "ExecuteTime": {
     "end_time": "2020-04-02T07:58:49.700504Z",
     "start_time": "2020-04-02T07:58:49.683376Z"
    }
   },
   "outputs": [],
   "source": [
    "dataset.isnull().any()\n",
    "dataset = dataset.dropna()\n",
    "dataset.isnull().sum()"
   ]
  },
  {
   "cell_type": "code",
   "execution_count": null,
   "metadata": {
    "ExecuteTime": {
     "end_time": "2020-04-02T07:58:49.708511Z",
     "start_time": "2020-04-02T07:58:49.704440Z"
    }
   },
   "outputs": [],
   "source": [
    "X = dataset[['max_temp_C', 'rainfall_mm', 'uv_MJ_m*m']]\n",
    "y = dataset['daily_avg']"
   ]
  },
  {
   "cell_type": "code",
   "execution_count": null,
   "metadata": {
    "ExecuteTime": {
     "end_time": "2020-04-02T07:58:50.105745Z",
     "start_time": "2020-04-02T07:58:49.713070Z"
    },
    "scrolled": false
   },
   "outputs": [],
   "source": [
    "plt.figure(figsize=(15,10))\n",
    "plt.tight_layout()\n",
    "seabornInstance.distplot(dataset['daily_avg'])\n",
    "plt.xlabel('Daily Average Temperature Celsius', fontsize=18)\n",
    "plt.ylabel('Probability Density', fontsize=16)"
   ]
  },
  {
   "cell_type": "code",
   "execution_count": null,
   "metadata": {
    "ExecuteTime": {
     "end_time": "2020-04-02T07:58:50.123103Z",
     "start_time": "2020-04-02T07:58:50.107560Z"
    }
   },
   "outputs": [],
   "source": [
    "# Split 80% of data to train and 20% to test\n",
    "X_train, X_test, y_train, y_test = train_test_split(X, y, test_size=0.2, random_state=0)"
   ]
  },
  {
   "cell_type": "code",
   "execution_count": null,
   "metadata": {
    "ExecuteTime": {
     "end_time": "2020-04-02T07:58:50.158754Z",
     "start_time": "2020-04-02T07:58:50.126192Z"
    },
    "scrolled": true
   },
   "outputs": [],
   "source": [
    "# Training the model\n",
    "regressor = LinearRegression()\n",
    "regressor.fit(X_train, y_train)"
   ]
  },
  {
   "cell_type": "code",
   "execution_count": null,
   "metadata": {
    "ExecuteTime": {
     "end_time": "2020-04-02T07:58:50.164716Z",
     "start_time": "2020-04-02T07:58:50.160397Z"
    },
    "scrolled": true
   },
   "outputs": [],
   "source": [
    "print(regressor.coef_)\n",
    "print(X.columns)"
   ]
  },
  {
   "cell_type": "code",
   "execution_count": null,
   "metadata": {
    "ExecuteTime": {
     "end_time": "2020-04-02T07:58:50.178672Z",
     "start_time": "2020-04-02T07:58:50.167799Z"
    },
    "scrolled": false
   },
   "outputs": [],
   "source": [
    "# Most optimal coefficients for attributes\n",
    "coeff_df = pd.DataFrame(regressor.coef_, X.columns, columns=['Coefficient'])  \n",
    "# How each unit of attribute affects n units in wine quality\n",
    "coeff_df"
   ]
  },
  {
   "cell_type": "markdown",
   "metadata": {},
   "source": [
    " we will use our test data and see how accurately our algorithm predicts the percentage score"
   ]
  },
  {
   "cell_type": "code",
   "execution_count": null,
   "metadata": {
    "ExecuteTime": {
     "end_time": "2020-04-02T07:58:50.188980Z",
     "start_time": "2020-04-02T07:58:50.180641Z"
    }
   },
   "outputs": [],
   "source": [
    "y_pred = regressor.predict(X_test)"
   ]
  },
  {
   "cell_type": "markdown",
   "metadata": {
    "ExecuteTime": {
     "end_time": "2020-03-30T07:10:50.266056Z",
     "start_time": "2020-03-30T07:10:50.253968Z"
    }
   },
   "source": [
    "Now compare the actual output values for X_test with the predicted values"
   ]
  },
  {
   "cell_type": "code",
   "execution_count": null,
   "metadata": {
    "ExecuteTime": {
     "end_time": "2020-04-02T07:58:50.204528Z",
     "start_time": "2020-04-02T07:58:50.190573Z"
    },
    "scrolled": false
   },
   "outputs": [],
   "source": [
    "df = pd.DataFrame({'Actual': y_test, 'Predicted': y_pred})\n",
    "df1 = df.head()\n",
    "df1"
   ]
  },
  {
   "cell_type": "code",
   "execution_count": null,
   "metadata": {
    "ExecuteTime": {
     "end_time": "2020-04-02T07:58:50.213353Z",
     "start_time": "2020-04-02T07:58:50.206476Z"
    }
   },
   "outputs": [],
   "source": [
    "print('Mean Absolute Error:', metrics.mean_absolute_error(y_test, y_pred))  \n",
    "print('Mean Squared Error:', metrics.mean_squared_error(y_test, y_pred))  \n",
    "print('Root Mean Squared Error:', np.sqrt(metrics.mean_squared_error(y_test, y_pred)))"
   ]
  }
 ],
 "metadata": {
  "kernelspec": {
   "display_name": "Python 3",
   "language": "python",
   "name": "python3"
  },
  "language_info": {
   "codemirror_mode": {
    "name": "ipython",
    "version": 3
   },
   "file_extension": ".py",
   "mimetype": "text/x-python",
   "name": "python",
   "nbconvert_exporter": "python",
   "pygments_lexer": "ipython3",
   "version": "3.7.4"
  }
 },
 "nbformat": 4,
 "nbformat_minor": 4
}
