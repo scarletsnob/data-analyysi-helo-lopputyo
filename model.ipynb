{
 "cells": [
  {
   "cell_type": "code",
   "execution_count": 1,
   "metadata": {
    "ExecuteTime": {
     "end_time": "2020-04-02T07:58:49.593223Z",
     "start_time": "2020-04-02T07:58:48.128622Z"
    }
   },
   "outputs": [],
   "source": [
    "import pandas as pd  \n",
    "import numpy as np  \n",
    "import matplotlib.pyplot as plt  \n",
    "import seaborn as seabornInstance \n",
    "from sklearn.model_selection import train_test_split \n",
    "from sklearn.linear_model import LinearRegression\n",
    "from sklearn import metrics\n",
    "%matplotlib inline"
   ]
  },
  {
   "cell_type": "code",
   "execution_count": 2,
   "metadata": {
    "ExecuteTime": {
     "end_time": "2020-04-02T07:58:49.675383Z",
     "start_time": "2020-04-02T07:58:49.594903Z"
    },
    "scrolled": true
   },
   "outputs": [
    {
     "data": {
      "text/html": [
       "<div>\n",
       "<style scoped>\n",
       "    .dataframe tbody tr th:only-of-type {\n",
       "        vertical-align: middle;\n",
       "    }\n",
       "\n",
       "    .dataframe tbody tr th {\n",
       "        vertical-align: top;\n",
       "    }\n",
       "\n",
       "    .dataframe thead th {\n",
       "        text-align: right;\n",
       "    }\n",
       "</style>\n",
       "<table border=\"1\" class=\"dataframe\">\n",
       "  <thead>\n",
       "    <tr style=\"text-align: right;\">\n",
       "      <th></th>\n",
       "      <th>Year</th>\n",
       "      <th>Month</th>\n",
       "      <th>Day</th>\n",
       "      <th>rainfall_mm</th>\n",
       "      <th>min_temp_C</th>\n",
       "      <th>max_temp_C</th>\n",
       "      <th>daily_avg</th>\n",
       "      <th>daily_range</th>\n",
       "      <th>uv_MJ_m*m</th>\n",
       "    </tr>\n",
       "  </thead>\n",
       "  <tbody>\n",
       "    <tr>\n",
       "      <th>count</th>\n",
       "      <td>6210.000000</td>\n",
       "      <td>6210.000000</td>\n",
       "      <td>6210.000000</td>\n",
       "      <td>6210.000000</td>\n",
       "      <td>6210.000000</td>\n",
       "      <td>6210.000000</td>\n",
       "      <td>6210.000000</td>\n",
       "      <td>6210.000000</td>\n",
       "      <td>6109.000000</td>\n",
       "    </tr>\n",
       "    <tr>\n",
       "      <th>mean</th>\n",
       "      <td>2008.000000</td>\n",
       "      <td>6.522383</td>\n",
       "      <td>15.731240</td>\n",
       "      <td>1.832496</td>\n",
       "      <td>12.282448</td>\n",
       "      <td>25.273784</td>\n",
       "      <td>18.778116</td>\n",
       "      <td>12.991337</td>\n",
       "      <td>18.986364</td>\n",
       "    </tr>\n",
       "    <tr>\n",
       "      <th>std</th>\n",
       "      <td>4.900031</td>\n",
       "      <td>3.449131</td>\n",
       "      <td>8.801478</td>\n",
       "      <td>5.374083</td>\n",
       "      <td>5.043679</td>\n",
       "      <td>6.273076</td>\n",
       "      <td>5.266178</td>\n",
       "      <td>4.318546</td>\n",
       "      <td>8.576431</td>\n",
       "    </tr>\n",
       "    <tr>\n",
       "      <th>min</th>\n",
       "      <td>2000.000000</td>\n",
       "      <td>1.000000</td>\n",
       "      <td>1.000000</td>\n",
       "      <td>0.000000</td>\n",
       "      <td>-1.300000</td>\n",
       "      <td>11.700000</td>\n",
       "      <td>7.200000</td>\n",
       "      <td>0.600000</td>\n",
       "      <td>0.200000</td>\n",
       "    </tr>\n",
       "    <tr>\n",
       "      <th>25%</th>\n",
       "      <td>2004.000000</td>\n",
       "      <td>4.000000</td>\n",
       "      <td>8.000000</td>\n",
       "      <td>0.000000</td>\n",
       "      <td>8.600000</td>\n",
       "      <td>20.200000</td>\n",
       "      <td>14.600000</td>\n",
       "      <td>9.800000</td>\n",
       "      <td>11.700000</td>\n",
       "    </tr>\n",
       "    <tr>\n",
       "      <th>50%</th>\n",
       "      <td>2008.000000</td>\n",
       "      <td>7.000000</td>\n",
       "      <td>16.000000</td>\n",
       "      <td>0.000000</td>\n",
       "      <td>12.100000</td>\n",
       "      <td>24.200000</td>\n",
       "      <td>18.050000</td>\n",
       "      <td>13.300000</td>\n",
       "      <td>17.900000</td>\n",
       "    </tr>\n",
       "    <tr>\n",
       "      <th>75%</th>\n",
       "      <td>2012.000000</td>\n",
       "      <td>10.000000</td>\n",
       "      <td>23.000000</td>\n",
       "      <td>0.400000</td>\n",
       "      <td>15.900000</td>\n",
       "      <td>29.800000</td>\n",
       "      <td>22.650000</td>\n",
       "      <td>16.000000</td>\n",
       "      <td>26.800000</td>\n",
       "    </tr>\n",
       "    <tr>\n",
       "      <th>max</th>\n",
       "      <td>2016.000000</td>\n",
       "      <td>12.000000</td>\n",
       "      <td>31.000000</td>\n",
       "      <td>99.000000</td>\n",
       "      <td>28.600000</td>\n",
       "      <td>44.500000</td>\n",
       "      <td>35.750000</td>\n",
       "      <td>26.200000</td>\n",
       "      <td>37.100000</td>\n",
       "    </tr>\n",
       "  </tbody>\n",
       "</table>\n",
       "</div>"
      ],
      "text/plain": [
       "              Year        Month          Day  rainfall_mm   min_temp_C  \\\n",
       "count  6210.000000  6210.000000  6210.000000  6210.000000  6210.000000   \n",
       "mean   2008.000000     6.522383    15.731240     1.832496    12.282448   \n",
       "std       4.900031     3.449131     8.801478     5.374083     5.043679   \n",
       "min    2000.000000     1.000000     1.000000     0.000000    -1.300000   \n",
       "25%    2004.000000     4.000000     8.000000     0.000000     8.600000   \n",
       "50%    2008.000000     7.000000    16.000000     0.000000    12.100000   \n",
       "75%    2012.000000    10.000000    23.000000     0.400000    15.900000   \n",
       "max    2016.000000    12.000000    31.000000    99.000000    28.600000   \n",
       "\n",
       "        max_temp_C    daily_avg  daily_range    uv_MJ_m*m  \n",
       "count  6210.000000  6210.000000  6210.000000  6109.000000  \n",
       "mean     25.273784    18.778116    12.991337    18.986364  \n",
       "std       6.273076     5.266178     4.318546     8.576431  \n",
       "min      11.700000     7.200000     0.600000     0.200000  \n",
       "25%      20.200000    14.600000     9.800000    11.700000  \n",
       "50%      24.200000    18.050000    13.300000    17.900000  \n",
       "75%      29.800000    22.650000    16.000000    26.800000  \n",
       "max      44.500000    35.750000    26.200000    37.100000  "
      ]
     },
     "execution_count": 2,
     "metadata": {},
     "output_type": "execute_result"
    }
   ],
   "source": [
    "##dataset = pandas.read_csv('wa_weather_1944_till_2016.csv', sep=',')\n",
    "dataset = pd.read_csv('2000-2016data.csv', sep=';')\n",
    "dataset.describe()"
   ]
  },
  {
   "cell_type": "code",
   "execution_count": 3,
   "metadata": {
    "ExecuteTime": {
     "end_time": "2020-04-02T07:58:49.681404Z",
     "start_time": "2020-04-02T07:58:49.677280Z"
    }
   },
   "outputs": [
    {
     "data": {
      "text/plain": [
       "(20333, 9)"
      ]
     },
     "execution_count": 3,
     "metadata": {},
     "output_type": "execute_result"
    }
   ],
   "source": [
    "dataset.shape"
   ]
  },
  {
   "cell_type": "code",
   "execution_count": 4,
   "metadata": {
    "ExecuteTime": {
     "end_time": "2020-04-02T07:58:49.700504Z",
     "start_time": "2020-04-02T07:58:49.683376Z"
    }
   },
   "outputs": [
    {
     "data": {
      "text/plain": [
       "Year           0\n",
       "Month          0\n",
       "Day            0\n",
       "rainfall_mm    0\n",
       "min_temp_C     0\n",
       "max_temp_C     0\n",
       "daily_avg      0\n",
       "daily_range    0\n",
       "uv_MJ_m*m      0\n",
       "dtype: int64"
      ]
     },
     "execution_count": 4,
     "metadata": {},
     "output_type": "execute_result"
    }
   ],
   "source": [
    "dataset.isnull().any()\n",
    "dataset = dataset.dropna()\n",
    "dataset.isnull().sum()"
   ]
  },
  {
   "cell_type": "code",
   "execution_count": 5,
   "metadata": {
    "ExecuteTime": {
     "end_time": "2020-04-02T07:58:49.708511Z",
     "start_time": "2020-04-02T07:58:49.704440Z"
    }
   },
   "outputs": [],
   "source": [
    "X = dataset[['max_temp_C', 'rainfall_mm', 'uv_MJ_m*m']]\n",
    "y = dataset['daily_avg']"
   ]
  },
  {
   "cell_type": "code",
   "execution_count": 6,
   "metadata": {
    "ExecuteTime": {
     "end_time": "2020-04-02T07:58:50.105745Z",
     "start_time": "2020-04-02T07:58:49.713070Z"
    },
    "scrolled": false
   },
   "outputs": [
    {
     "data": {
      "text/plain": [
       "<matplotlib.axes._subplots.AxesSubplot at 0x7f6d0b03d710>"
      ]
     },
     "execution_count": 6,
     "metadata": {},
     "output_type": "execute_result"
    },
    {
     "data": {
      "image/png": "[encoded data removed]",
      "text/plain": [
       "<Figure size 1080x720 with 1 Axes>"
      ]
     },
     "metadata": {
      "needs_background": "light"
     },
     "output_type": "display_data"
    }
   ],
   "source": [
    "plt.figure(figsize=(15,10))\n",
    "plt.tight_layout()\n",
    "seabornInstance.distplot(dataset['daily_avg'])"
   ]
  },
  {
   "cell_type": "code",
   "execution_count": 7,
   "metadata": {
    "ExecuteTime": {
     "end_time": "2020-04-02T07:58:50.123103Z",
     "start_time": "2020-04-02T07:58:50.107560Z"
    }
   },
   "outputs": [],
   "source": [
    "# Split 80% of data to train and 20% to test\n",
    "X_train, X_test, y_train, y_test = train_test_split(X, y, test_size=0.2, random_state=0)"
   ]
  },
  {
   "cell_type": "code",
   "execution_count": 8,
   "metadata": {
    "ExecuteTime": {
     "end_time": "2020-04-02T07:58:50.158754Z",
     "start_time": "2020-04-02T07:58:50.126192Z"
    },
    "scrolled": true
   },
   "outputs": [
    {
     "data": {
      "text/plain": [
       "LinearRegression(copy_X=True, fit_intercept=True, n_jobs=None, normalize=False)"
      ]
     },
     "execution_count": 8,
     "metadata": {},
     "output_type": "execute_result"
    }
   ],
   "source": [
    "# Training the model\n",
    "regressor = LinearRegression()\n",
    "regressor.fit(X_train, y_train)"
   ]
  },
  {
   "cell_type": "code",
   "execution_count": 9,
   "metadata": {
    "ExecuteTime": {
     "end_time": "2020-04-02T07:58:50.164716Z",
     "start_time": "2020-04-02T07:58:50.160397Z"
    },
    "scrolled": true
   },
   "outputs": [
    {
     "name": "stdout",
     "output_type": "stream",
     "text": [
      "[ 0.88442418  0.08910258 -0.06970626]\n",
      "Index(['max_temp_C', 'rainfall_mm', 'uv_MJ_m*m'], dtype='object')\n"
     ]
    }
   ],
   "source": [
    "print(regressor.coef_)\n",
    "print(X.columns)"
   ]
  },
  {
   "cell_type": "code",
   "execution_count": 10,
   "metadata": {
    "ExecuteTime": {
     "end_time": "2020-04-02T07:58:50.178672Z",
     "start_time": "2020-04-02T07:58:50.167799Z"
    },
    "scrolled": false
   },
   "outputs": [
    {
     "data": {
      "text/html": [
       "<div>\n",
       "<style scoped>\n",
       "    .dataframe tbody tr th:only-of-type {\n",
       "        vertical-align: middle;\n",
       "    }\n",
       "\n",
       "    .dataframe tbody tr th {\n",
       "        vertical-align: top;\n",
       "    }\n",
       "\n",
       "    .dataframe thead th {\n",
       "        text-align: right;\n",
       "    }\n",
       "</style>\n",
       "<table border=\"1\" class=\"dataframe\">\n",
       "  <thead>\n",
       "    <tr style=\"text-align: right;\">\n",
       "      <th></th>\n",
       "      <th>Coefficient</th>\n",
       "    </tr>\n",
       "  </thead>\n",
       "  <tbody>\n",
       "    <tr>\n",
       "      <th>max_temp_C</th>\n",
       "      <td>0.884424</td>\n",
       "    </tr>\n",
       "    <tr>\n",
       "      <th>rainfall_mm</th>\n",
       "      <td>0.089103</td>\n",
       "    </tr>\n",
       "    <tr>\n",
       "      <th>uv_MJ_m*m</th>\n",
       "      <td>-0.069706</td>\n",
       "    </tr>\n",
       "  </tbody>\n",
       "</table>\n",
       "</div>"
      ],
      "text/plain": [
       "             Coefficient\n",
       "max_temp_C      0.884424\n",
       "rainfall_mm     0.089103\n",
       "uv_MJ_m*m      -0.069706"
      ]
     },
     "execution_count": 10,
     "metadata": {},
     "output_type": "execute_result"
    }
   ],
   "source": [
    "# Most optimal coefficients for attributes\n",
    "coeff_df = pd.DataFrame(regressor.coef_, X.columns, columns=['Coefficient'])  \n",
    "# How each unit of attribute affects n units in wine quality\n",
    "coeff_df"
   ]
  },
  {
   "cell_type": "code",
   "execution_count": 11,
   "metadata": {
    "ExecuteTime": {
     "end_time": "2020-04-02T07:58:50.188980Z",
     "start_time": "2020-04-02T07:58:50.180641Z"
    }
   },
   "outputs": [],
   "source": [
    "y_pred = regressor.predict(X_test)"
   ]
  },
  {
   "cell_type": "code",
   "execution_count": null,
   "metadata": {
    "ExecuteTime": {
     "end_time": "2020-03-30T07:10:50.266056Z",
     "start_time": "2020-03-30T07:10:50.253968Z"
    }
   },
   "outputs": [],
   "source": []
  },
  {
   "cell_type": "code",
   "execution_count": 12,
   "metadata": {
    "ExecuteTime": {
     "end_time": "2020-04-02T07:58:50.204528Z",
     "start_time": "2020-04-02T07:58:50.190573Z"
    },
    "scrolled": false
   },
   "outputs": [
    {
     "data": {
      "text/html": [
       "<div>\n",
       "<style scoped>\n",
       "    .dataframe tbody tr th:only-of-type {\n",
       "        vertical-align: middle;\n",
       "    }\n",
       "\n",
       "    .dataframe tbody tr th {\n",
       "        vertical-align: top;\n",
       "    }\n",
       "\n",
       "    .dataframe thead th {\n",
       "        text-align: right;\n",
       "    }\n",
       "</style>\n",
       "<table border=\"1\" class=\"dataframe\">\n",
       "  <thead>\n",
       "    <tr style=\"text-align: right;\">\n",
       "      <th></th>\n",
       "      <th>Actual</th>\n",
       "      <th>Predicted</th>\n",
       "    </tr>\n",
       "  </thead>\n",
       "  <tbody>\n",
       "    <tr>\n",
       "      <th>2534</th>\n",
       "      <td>17.45</td>\n",
       "      <td>16.880462</td>\n",
       "    </tr>\n",
       "    <tr>\n",
       "      <th>250</th>\n",
       "      <td>14.60</td>\n",
       "      <td>13.922389</td>\n",
       "    </tr>\n",
       "    <tr>\n",
       "      <th>6031</th>\n",
       "      <td>12.80</td>\n",
       "      <td>12.367238</td>\n",
       "    </tr>\n",
       "    <tr>\n",
       "      <th>3875</th>\n",
       "      <td>15.85</td>\n",
       "      <td>15.298892</td>\n",
       "    </tr>\n",
       "    <tr>\n",
       "      <th>3528</th>\n",
       "      <td>8.80</td>\n",
       "      <td>11.438147</td>\n",
       "    </tr>\n",
       "  </tbody>\n",
       "</table>\n",
       "</div>"
      ],
      "text/plain": [
       "      Actual  Predicted\n",
       "2534   17.45  16.880462\n",
       "250    14.60  13.922389\n",
       "6031   12.80  12.367238\n",
       "3875   15.85  15.298892\n",
       "3528    8.80  11.438147"
      ]
     },
     "execution_count": 12,
     "metadata": {},
     "output_type": "execute_result"
    }
   ],
   "source": [
    "df = pd.DataFrame({'Actual': y_test, 'Predicted': y_pred})\n",
    "df1 = df.head()\n",
    "df1"
   ]
  },
  {
   "cell_type": "code",
   "execution_count": 13,
   "metadata": {
    "ExecuteTime": {
     "end_time": "2020-04-02T07:58:50.213353Z",
     "start_time": "2020-04-02T07:58:50.206476Z"
    }
   },
   "outputs": [
    {
     "name": "stdout",
     "output_type": "stream",
     "text": [
      "Mean Absolute Error: 1.2792887237728925\n",
      "Mean Squared Error: 2.5258491587913063\n",
      "Root Mean Squared Error: 1.5892920306826264\n"
     ]
    }
   ],
   "source": [
    "print('Mean Absolute Error:', metrics.mean_absolute_error(y_test, y_pred))  \n",
    "print('Mean Squared Error:', metrics.mean_squared_error(y_test, y_pred))  \n",
    "print('Root Mean Squared Error:', np.sqrt(metrics.mean_squared_error(y_test, y_pred)))"
   ]
  }
 ],
 "metadata": {
  "kernelspec": {
   "display_name": "Python 3",
   "language": "python",
   "name": "python3"
  },
  "language_info": {
   "codemirror_mode": {
    "name": "ipython",
    "version": 3
   },
   "file_extension": ".py",
   "mimetype": "text/x-python",
   "name": "python",
   "nbconvert_exporter": "python",
   "pygments_lexer": "ipython3",
   "version": "3.6.10"
  }
 },
 "nbformat": 4,
 "nbformat_minor": 4
}
