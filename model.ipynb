{
 "cells": [
  {
   "cell_type": "code",
   "execution_count": null,
   "metadata": {
    "ExecuteTime": {
     "end_time": "2020-04-09T08:10:24.296991Z",
     "start_time": "2020-04-09T08:10:24.290939Z"
    }
   },
   "outputs": [],
   "source": [
    "import pandas as pd  \n",
    "import numpy as np  \n",
    "import matplotlib.pyplot as plt  \n",
    "import seaborn as seabornInstance \n",
    "from sklearn.model_selection import train_test_split \n",
    "from sklearn.linear_model import LinearRegression\n",
    "from sklearn import metrics\n",
    "%matplotlib inline"
   ]
  },
  {
   "cell_type": "code",
   "execution_count": null,
   "metadata": {
    "ExecuteTime": {
     "end_time": "2020-04-09T08:10:24.369979Z",
     "start_time": "2020-04-09T08:10:24.298324Z"
    }
   },
   "outputs": [],
   "source": [
    "##dataset = pandas.read_csv('wa_weather_1944_till_2016.csv', sep=',')\n",
    "dataset = pd.read_csv('2000-2016data.csv', sep=';')\n",
    "dataset.describe()"
   ]
  },
  {
   "cell_type": "code",
   "execution_count": null,
   "metadata": {
    "ExecuteTime": {
     "end_time": "2020-04-09T08:10:24.375151Z",
     "start_time": "2020-04-09T08:10:24.371738Z"
    }
   },
   "outputs": [],
   "source": [
    "dataset.shape"
   ]
  },
  {
   "cell_type": "code",
   "execution_count": null,
   "metadata": {
    "ExecuteTime": {
     "end_time": "2020-04-09T08:10:24.389368Z",
     "start_time": "2020-04-09T08:10:24.376940Z"
    }
   },
   "outputs": [],
   "source": [
    "dataset.isnull().any()\n",
    "dataset = dataset.dropna()\n",
    "dataset.isnull().sum()"
   ]
  },
  {
   "cell_type": "code",
   "execution_count": null,
   "metadata": {
    "ExecuteTime": {
     "end_time": "2020-04-09T08:10:24.396445Z",
     "start_time": "2020-04-09T08:10:24.391546Z"
    }
   },
   "outputs": [],
   "source": [
    "X = dataset[['max_temp_C', 'rainfall_mm', 'uv_MJ_m*m']]\n",
    "y = dataset['daily_avg']"
   ]
  },
  {
   "cell_type": "code",
   "execution_count": null,
   "metadata": {
    "ExecuteTime": {
     "end_time": "2020-04-09T08:10:24.790994Z",
     "start_time": "2020-04-09T08:10:24.399141Z"
    }
   },
   "outputs": [],
   "source": [
    "plt.figure(figsize=(15,10))\n",
    "plt.tight_layout()\n",
    "seabornInstance.distplot(dataset['daily_avg'])\n",
    "plt.xlabel('Daily Average Temperature Celsius', fontsize=18)\n",
    "plt.ylabel('Probability Density', fontsize=16)"
   ]
  },
  {
   "cell_type": "code",
   "execution_count": null,
   "metadata": {
    "ExecuteTime": {
     "end_time": "2020-04-09T08:10:24.800561Z",
     "start_time": "2020-04-09T08:10:24.793958Z"
    }
   },
   "outputs": [],
   "source": [
    "# Split 80% of data to train and 20% to test\n",
    "X_train, X_test, y_train, y_test = train_test_split(X, y, test_size=0.2, random_state=0)"
   ]
  },
  {
   "cell_type": "code",
   "execution_count": null,
   "metadata": {
    "ExecuteTime": {
     "end_time": "2020-04-09T08:10:24.823590Z",
     "start_time": "2020-04-09T08:10:24.803797Z"
    }
   },
   "outputs": [],
   "source": [
    "# Training the model\n",
    "regressor = LinearRegression()\n",
    "regressor.fit(X_train, y_train)"
   ]
  },
  {
   "cell_type": "code",
   "execution_count": null,
   "metadata": {
    "ExecuteTime": {
     "end_time": "2020-04-09T08:10:24.832283Z",
     "start_time": "2020-04-09T08:10:24.825802Z"
    }
   },
   "outputs": [],
   "source": [
    "print(regressor.coef_)\n",
    "print(X.columns)"
   ]
  },
  {
   "cell_type": "code",
   "execution_count": null,
   "metadata": {
    "ExecuteTime": {
     "end_time": "2020-04-09T08:10:24.848344Z",
     "start_time": "2020-04-09T08:10:24.833719Z"
    }
   },
   "outputs": [],
   "source": [
    "# Most optimal coefficients for attributes\n",
    "coeff_df = pd.DataFrame(regressor.coef_, X.columns, columns=['Coefficient'])  \n",
    "# How each unit of attribute affects n units in wine quality\n",
    "coeff_df"
   ]
  },
  {
   "cell_type": "markdown",
   "metadata": {},
   "source": [
    " we will use our test data and see how accurately our algorithm predicts the percentage score"
   ]
  },
  {
   "cell_type": "code",
   "execution_count": null,
   "metadata": {
    "ExecuteTime": {
     "end_time": "2020-04-09T08:10:24.856352Z",
     "start_time": "2020-04-09T08:10:24.850417Z"
    }
   },
   "outputs": [],
   "source": [
    "y_pred = regressor.predict(X_test)"
   ]
  },
  {
   "cell_type": "markdown",
   "metadata": {
    "ExecuteTime": {
     "end_time": "2020-03-30T07:10:50.266056Z",
     "start_time": "2020-03-30T07:10:50.253968Z"
    }
   },
   "source": [
    "Now compare the actual output values for X_test with the predicted values"
   ]
  },
  {
   "cell_type": "code",
   "execution_count": null,
   "metadata": {
    "ExecuteTime": {
     "end_time": "2020-04-09T08:10:24.872539Z",
     "start_time": "2020-04-09T08:10:24.858898Z"
    }
   },
   "outputs": [],
   "source": [
    "df = pd.DataFrame({'Actual': y_test, 'Predicted': y_pred})\n",
    "df1 = df.head()\n",
    "df1"
   ]
  },
  {
   "cell_type": "code",
   "execution_count": null,
   "metadata": {
    "ExecuteTime": {
     "end_time": "2020-04-09T08:10:24.884566Z",
     "start_time": "2020-04-09T08:10:24.876679Z"
    }
   },
   "outputs": [],
   "source": [
    "print('Mean Absolute Error:', metrics.mean_absolute_error(y_test, y_pred))  \n",
    "print('Mean Squared Error:', metrics.mean_squared_error(y_test, y_pred))  \n",
    "print('Root Mean Squared Error:', np.sqrt(metrics.mean_squared_error(y_test, y_pred)))"
   ]
  }
 ],
 "metadata": {
  "kernelspec": {
   "display_name": "Python 3",
   "language": "python",
   "name": "python3"
  },
  "language_info": {
   "codemirror_mode": {
    "name": "ipython",
    "version": 3
   },
   "file_extension": ".py",
   "mimetype": "text/x-python",
   "name": "python",
   "nbconvert_exporter": "python",
   "pygments_lexer": "ipython3",
   "version": "3.6.10"
  }
 },
 "nbformat": 4,
 "nbformat_minor": 4
}
